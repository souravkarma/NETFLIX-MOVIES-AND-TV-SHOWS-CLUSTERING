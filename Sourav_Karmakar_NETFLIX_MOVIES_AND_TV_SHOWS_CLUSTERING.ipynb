{
  "nbformat": 4,
  "nbformat_minor": 0,
  "metadata": {
    "colab": {
      "provenance": [],
      "authorship_tag": "ABX9TyPaw41qdAL0tdv+Hd0wL4dk",
      "include_colab_link": true
    },
    "kernelspec": {
      "name": "python3",
      "display_name": "Python 3"
    },
    "language_info": {
      "name": "python"
    }
  },
  "cells": [
    {
      "cell_type": "markdown",
      "metadata": {
        "id": "view-in-github",
        "colab_type": "text"
      },
      "source": [
        "<a href=\"https://colab.research.google.com/github/souravkarma/NETFLIX-MOVIES-AND-TV-SHOWS-CLUSTERING/blob/main/Sourav_Karmakar_NETFLIX_MOVIES_AND_TV_SHOWS_CLUSTERING.ipynb\" target=\"_parent\"><img src=\"https://colab.research.google.com/assets/colab-badge.svg\" alt=\"Open In Colab\"/></a>"
      ]
    },
    {
      "cell_type": "markdown",
      "source": [
        "#**Project Name-NETFLIX MOVIES AND TV SHOWS CLUSTERING**"
      ],
      "metadata": {
        "id": "jfuJ76oBl42g"
      }
    },
    {
      "cell_type": "markdown",
      "source": [
        "##### **Project Type**    - Unsupervised\n",
        "##### **Contribution**    - Individual\n",
        "##### **Team Member 1 - Sourav Karmakar**\n"
      ],
      "metadata": {
        "id": "5TzWJ66Pl_yp"
      }
    },
    {
      "cell_type": "markdown",
      "source": [
        "#**Project Summary**"
      ],
      "metadata": {
        "id": "m7zTA5PRmXEY"
      }
    },
    {
      "cell_type": "markdown",
      "source": [],
      "metadata": {
        "id": "N1bKyFr4mfqi"
      }
    },
    {
      "cell_type": "markdown",
      "source": [
        "#**Github Link**"
      ],
      "metadata": {
        "id": "zboZKxCYnBDC"
      }
    },
    {
      "cell_type": "markdown",
      "source": [],
      "metadata": {
        "id": "qtXgG-3OnFhR"
      }
    },
    {
      "cell_type": "code",
      "execution_count": null,
      "metadata": {
        "id": "nbgxNo2KAYPB"
      },
      "outputs": [],
      "source": []
    }
  ]
}